{
 "cells": [
  {
   "cell_type": "code",
   "execution_count": 1,
   "id": "25534704",
   "metadata": {},
   "outputs": [
    {
     "name": "stdout",
     "output_type": "stream",
     "text": [
      "Populating the interactive namespace from numpy and matplotlib\n"
     ]
    }
   ],
   "source": [
    "import time\n",
    "import numpy as np\n",
    "import pandas as pd\n",
    "import matplotlib.pyplot as plt\n",
    "\n",
    "import relative_finding\n",
    "\n",
    "from cyvcf2 import VCF\n",
    "from tqdm.notebook import tqdm\n",
    "\n",
    "%pylab inline"
   ]
  },
  {
   "cell_type": "code",
   "execution_count": 2,
   "id": "f0db2f66",
   "metadata": {},
   "outputs": [
    {
     "data": {
      "image/png": "[encoded data removed]",
      "text/plain": [
       "<Figure size 432x288 with 1 Axes>"
      ]
     },
     "metadata": {
      "needs_background": "light"
     },
     "output_type": "display_data"
    }
   ],
   "source": [
    "ibd = pd.read_pickle(\"sample/ibd.genome.pkl\", compression='gzip')\n",
    "fig = plt.figure()\n",
    "ax = fig.add_subplot(111)\n",
    "ax.scatter(ibd[\"Z0\"], ibd[\"Z1\"])\n",
    "ax.set_xlabel(\"P(IBD=0)\", size=15)\n",
    "ax.set_ylabel(\"P(IBD=1)\", size=15)\n",
    "plt.show()"
   ]
  },
  {
   "cell_type": "code",
   "execution_count": 3,
   "id": "1db2013c",
   "metadata": {},
   "outputs": [
    {
     "data": {
      "application/vnd.jupyter.widget-view+json": {
       "model_id": "0ac84f465c634eaab9852c338bcbadf9",
       "version_major": 2,
       "version_minor": 0
      },
      "text/plain": [
       "  0%|          | 0/1500 [00:00<?, ?it/s]"
      ]
     },
     "metadata": {},
     "output_type": "display_data"
    }
   ],
   "source": [
    "filename = \"sample/ALL.chr15.phase3_shapeit2_mvncall_integrated_v5a.20130502.genotypes.vcf.gz\"\n",
    "num_samples = 1500\n",
    "\n",
    "actual = np.zeros((num_samples, 3))\n",
    "pred = np.zeros((num_samples, 3))\n",
    "\n",
    "for i, sample in tqdm(enumerate(ibd.sample(num_samples).itertuples()), total=num_samples):\n",
    "    p0, p1, p2 = relative_finding.app(filename, sample.IID1, sample.IID2)\n",
    "    pred[i, 0] = p0\n",
    "    pred[i, 1] = p1\n",
    "    pred[i, 2] = p2\n",
    "    actual[i, 0] = sample.Z0\n",
    "    actual[i, 1] = sample.Z1\n",
    "    actual[i, 2] = sample.Z2\n",
    "    \n",
    "    if i % 100 == 0:\n",
    "        np.save(f'ckpt{i}_actual.npy', actual[:i])\n",
    "        np.save(f'ckpt{i}_pred.npy', pred[:i])"
   ]
  },
  {
   "cell_type": "code",
   "execution_count": 3,
   "id": "dedd664e",
   "metadata": {},
   "outputs": [],
   "source": [
    "actual = np.load('ckpt1500_actual.npy')\n",
    "pred = np.load('ckpt1500_pred.npy')"
   ]
  },
  {
   "cell_type": "code",
   "execution_count": 4,
   "id": "406895a0",
   "metadata": {},
   "outputs": [
    {
     "name": "stdout",
     "output_type": "stream",
     "text": [
      "mae: 0.00924104411615941\n",
      "mse: 0.0006712319403097077\n"
     ]
    }
   ],
   "source": [
    "mae = np.sum(abs(pred - actual)) / pred.shape[0]\n",
    "mse = np.sum((pred - actual) ** 2) / pred.shape[0]\n",
    "\n",
    "print(f\"mae: {mae}\")\n",
    "print(f\"mse: {mse}\")"
   ]
  },
  {
   "cell_type": "markdown",
   "id": "1daa0108",
   "metadata": {},
   "source": [
    "The majority of records are where one of the values is 1 while the rest are 0s. We can replicate these results perfectly. So, to see what our results for the rest of the data is like, we can filter these records out. "
   ]
  },
  {
   "cell_type": "code",
   "execution_count": 5,
   "id": "f9d8d940",
   "metadata": {},
   "outputs": [
    {
     "name": "stdout",
     "output_type": "stream",
     "text": [
      "0.8220502808770052\n"
     ]
    }
   ],
   "source": [
    "print(len(ibd[(ibd['Z0'] == 1) | (ibd['Z1'] == 1) | (ibd['Z2'] == 1)]) / len(ibd))"
   ]
  },
  {
   "cell_type": "code",
   "execution_count": 6,
   "id": "4cf09fbb",
   "metadata": {},
   "outputs": [],
   "source": [
    "filter_1s = [False if np.any(i == 1) else True for i in pred]\n",
    "filter_pred = pred[filter_1s]\n",
    "filter_actual = actual[filter_1s]"
   ]
  },
  {
   "cell_type": "code",
   "execution_count": 7,
   "id": "b857eec8",
   "metadata": {},
   "outputs": [
    {
     "name": "stdout",
     "output_type": "stream",
     "text": [
      "mae: 0.04514011330839444\n",
      "mse: 0.0016106532054742926\n"
     ]
    }
   ],
   "source": [
    "mae = np.sum(abs(filter_pred - filter_actual)) / filter_pred.shape[0]\n",
    "mse = np.sum((filter_pred - filter_actual) ** 2) / filter_pred.shape[0]\n",
    "\n",
    "print(f\"mae: {mae}\")\n",
    "print(f\"mse: {mse}\")"
   ]
  },
  {
   "cell_type": "code",
   "execution_count": null,
   "id": "cc11e089",
   "metadata": {},
   "outputs": [],
   "source": []
  }
 ],
 "metadata": {
  "kernelspec": {
   "display_name": "Python 3 (ipykernel)",
   "language": "python",
   "name": "python3"
  },
  "language_info": {
   "codemirror_mode": {
    "name": "ipython",
    "version": 3
   },
   "file_extension": ".py",
   "mimetype": "text/x-python",
   "name": "python",
   "nbconvert_exporter": "python",
   "pygments_lexer": "ipython3",
   "version": "3.9.5"
  }
 },
 "nbformat": 4,
 "nbformat_minor": 5
}
